{
 "cells": [
  {
   "cell_type": "markdown",
   "metadata": {},
   "source": [
    "# Artificial signal from differernt software\n",
    "\n"
   ]
  },
  {
   "cell_type": "markdown",
   "metadata": {},
   "source": [
    "## software list\n",
    "\n",
    "- [NanosigSim](https://github.com/zpllx/NanosigSim/tree/main)\n",
    "- [DeepSimulator](https://academic.oup.com/bioinformatics/article/34/17/2899/4962495)\n",
    "- [DeepSimulator1.5](https://academic.oup.com/bioinformatics/article/36/8/2578/5698265)\n",
    "- [NanoSim](https://academic.oup.com/gigascience/article/6/4/gix010/3051934)"
   ]
  },
  {
   "cell_type": "code",
   "execution_count": null,
   "metadata": {},
   "outputs": [],
   "source": []
  }
 ],
 "metadata": {
  "kernelspec": {
   "display_name": "Python 3.8.5 64-bit ('nbdev': conda)",
   "metadata": {
    "interpreter": {
     "hash": "6d85cfdebf48b23f67b010a8382d0019fc24c8aaf0b5ed7c9863ec2e30b57229"
    }
   },
   "name": "python3"
  }
 },
 "nbformat": 4,
 "nbformat_minor": 2
}
